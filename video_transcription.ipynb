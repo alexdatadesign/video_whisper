{
  "nbformat": 4,
  "nbformat_minor": 0,
  "metadata": {
    "colab": {
      "provenance": [],
      "gpuType": "T4",
      "authorship_tag": "ABX9TyPLGsOjNv+RhDrmm+6frQ51",
      "include_colab_link": true
    },
    "kernelspec": {
      "name": "python3",
      "display_name": "Python 3"
    },
    "language_info": {
      "name": "python"
    },
    "accelerator": "GPU"
  },
  "cells": [
    {
      "cell_type": "markdown",
      "metadata": {
        "id": "view-in-github",
        "colab_type": "text"
      },
      "source": [
        "<a href=\"https://colab.research.google.com/github/alexdatadesign/video_whisper/blob/main/video_transcription.ipynb\" target=\"_parent\"><img src=\"https://colab.research.google.com/assets/colab-badge.svg\" alt=\"Open In Colab\"/></a>"
      ]
    },
    {
      "cell_type": "code",
      "source": [
        "youtube_video_url = 'https://www.youtube.com/watch?v=dDih3wTuhcM'"
      ],
      "metadata": {
        "id": "n1aTDPu7H1Ba"
      },
      "execution_count": 1,
      "outputs": []
    },
    {
      "cell_type": "code",
      "source": [
        "# What type of GPU we have here ?\n",
        "!nvidia-smi -L"
      ],
      "metadata": {
        "colab": {
          "base_uri": "https://localhost:8080/"
        },
        "id": "t27ffMpjNmtb",
        "outputId": "e0c52352-08e3-4716-a470-c98097d7ce42"
      },
      "execution_count": 2,
      "outputs": [
        {
          "output_type": "stream",
          "name": "stdout",
          "text": [
            "GPU 0: Tesla T4 (UUID: GPU-dc82b877-8f91-cbd6-6199-d0204466b9b7)\n"
          ]
        }
      ]
    },
    {
      "cell_type": "code",
      "source": [
        "!nvidia-smi"
      ],
      "metadata": {
        "colab": {
          "base_uri": "https://localhost:8080/"
        },
        "id": "En2bLStpJtHu",
        "outputId": "dcc699b5-b471-4364-dc06-b587670a9f0b"
      },
      "execution_count": 3,
      "outputs": [
        {
          "output_type": "stream",
          "name": "stdout",
          "text": [
            "Wed Jan 10 12:34:24 2024       \n",
            "+---------------------------------------------------------------------------------------+\n",
            "| NVIDIA-SMI 535.104.05             Driver Version: 535.104.05   CUDA Version: 12.2     |\n",
            "|-----------------------------------------+----------------------+----------------------+\n",
            "| GPU  Name                 Persistence-M | Bus-Id        Disp.A | Volatile Uncorr. ECC |\n",
            "| Fan  Temp   Perf          Pwr:Usage/Cap |         Memory-Usage | GPU-Util  Compute M. |\n",
            "|                                         |                      |               MIG M. |\n",
            "|=========================================+======================+======================|\n",
            "|   0  Tesla T4                       Off | 00000000:00:04.0 Off |                    0 |\n",
            "| N/A   64C    P8              11W /  70W |      0MiB / 15360MiB |      0%      Default |\n",
            "|                                         |                      |                  N/A |\n",
            "+-----------------------------------------+----------------------+----------------------+\n",
            "                                                                                         \n",
            "+---------------------------------------------------------------------------------------+\n",
            "| Processes:                                                                            |\n",
            "|  GPU   GI   CI        PID   Type   Process name                            GPU Memory |\n",
            "|        ID   ID                                                             Usage      |\n",
            "|=======================================================================================|\n",
            "|  No running processes found                                                           |\n",
            "+---------------------------------------------------------------------------------------+\n"
          ]
        }
      ]
    },
    {
      "cell_type": "code",
      "source": [
        "!pip install yt-dlp\n",
        "!pip install --upgrade git+https://github.com/huggingface/transformers.git accelerate datasets[audio]"
      ],
      "metadata": {
        "colab": {
          "base_uri": "https://localhost:8080/"
        },
        "id": "4MmFP940KcX9",
        "outputId": "4d9785c8-a79a-4969-e1e5-9a5f0a83a2bd"
      },
      "execution_count": 4,
      "outputs": [
        {
          "output_type": "stream",
          "name": "stdout",
          "text": [
            "Requirement already satisfied: yt-dlp in /usr/local/lib/python3.10/dist-packages (2023.12.30)\n",
            "Requirement already satisfied: mutagen in /usr/local/lib/python3.10/dist-packages (from yt-dlp) (1.47.0)\n",
            "Requirement already satisfied: pycryptodomex in /usr/local/lib/python3.10/dist-packages (from yt-dlp) (3.20.0)\n",
            "Requirement already satisfied: certifi in /usr/local/lib/python3.10/dist-packages (from yt-dlp) (2023.11.17)\n",
            "Requirement already satisfied: requests<3,>=2.31.0 in /usr/local/lib/python3.10/dist-packages (from yt-dlp) (2.31.0)\n",
            "Requirement already satisfied: urllib3<3,>=1.26.17 in /usr/local/lib/python3.10/dist-packages (from yt-dlp) (2.0.7)\n",
            "Requirement already satisfied: websockets>=12.0 in /usr/local/lib/python3.10/dist-packages (from yt-dlp) (12.0)\n",
            "Requirement already satisfied: brotli in /usr/local/lib/python3.10/dist-packages (from yt-dlp) (1.1.0)\n",
            "Requirement already satisfied: charset-normalizer<4,>=2 in /usr/local/lib/python3.10/dist-packages (from requests<3,>=2.31.0->yt-dlp) (3.3.2)\n",
            "Requirement already satisfied: idna<4,>=2.5 in /usr/local/lib/python3.10/dist-packages (from requests<3,>=2.31.0->yt-dlp) (3.6)\n",
            "Collecting git+https://github.com/huggingface/transformers.git\n",
            "  Cloning https://github.com/huggingface/transformers.git to /tmp/pip-req-build-hxagi22z\n",
            "  Running command git clone --filter=blob:none --quiet https://github.com/huggingface/transformers.git /tmp/pip-req-build-hxagi22z\n",
            "  Resolved https://github.com/huggingface/transformers.git to commit ffd3710391c0700a3957f0cdf2c99bc5ae966c70\n",
            "  Installing build dependencies ... \u001b[?25l\u001b[?25hdone\n",
            "  Getting requirements to build wheel ... \u001b[?25l\u001b[?25hdone\n",
            "  Preparing metadata (pyproject.toml) ... \u001b[?25l\u001b[?25hdone\n",
            "Requirement already satisfied: accelerate in /usr/local/lib/python3.10/dist-packages (0.25.0)\n",
            "Requirement already satisfied: datasets[audio] in /usr/local/lib/python3.10/dist-packages (2.16.1)\n",
            "Requirement already satisfied: filelock in /usr/local/lib/python3.10/dist-packages (from transformers==4.37.0.dev0) (3.13.1)\n",
            "Requirement already satisfied: huggingface-hub<1.0,>=0.19.3 in /usr/local/lib/python3.10/dist-packages (from transformers==4.37.0.dev0) (0.20.2)\n",
            "Requirement already satisfied: numpy>=1.17 in /usr/local/lib/python3.10/dist-packages (from transformers==4.37.0.dev0) (1.23.5)\n",
            "Requirement already satisfied: packaging>=20.0 in /usr/local/lib/python3.10/dist-packages (from transformers==4.37.0.dev0) (23.2)\n",
            "Requirement already satisfied: pyyaml>=5.1 in /usr/local/lib/python3.10/dist-packages (from transformers==4.37.0.dev0) (6.0.1)\n",
            "Requirement already satisfied: regex!=2019.12.17 in /usr/local/lib/python3.10/dist-packages (from transformers==4.37.0.dev0) (2023.6.3)\n",
            "Requirement already satisfied: requests in /usr/local/lib/python3.10/dist-packages (from transformers==4.37.0.dev0) (2.31.0)\n",
            "Requirement already satisfied: tokenizers<0.19,>=0.14 in /usr/local/lib/python3.10/dist-packages (from transformers==4.37.0.dev0) (0.15.0)\n",
            "Requirement already satisfied: safetensors>=0.3.1 in /usr/local/lib/python3.10/dist-packages (from transformers==4.37.0.dev0) (0.4.1)\n",
            "Requirement already satisfied: tqdm>=4.27 in /usr/local/lib/python3.10/dist-packages (from transformers==4.37.0.dev0) (4.66.1)\n",
            "Requirement already satisfied: psutil in /usr/local/lib/python3.10/dist-packages (from accelerate) (5.9.5)\n",
            "Requirement already satisfied: torch>=1.10.0 in /usr/local/lib/python3.10/dist-packages (from accelerate) (2.1.0+cu121)\n",
            "Requirement already satisfied: pyarrow>=8.0.0 in /usr/local/lib/python3.10/dist-packages (from datasets[audio]) (10.0.1)\n",
            "Requirement already satisfied: pyarrow-hotfix in /usr/local/lib/python3.10/dist-packages (from datasets[audio]) (0.6)\n",
            "Requirement already satisfied: dill<0.3.8,>=0.3.0 in /usr/local/lib/python3.10/dist-packages (from datasets[audio]) (0.3.7)\n",
            "Requirement already satisfied: pandas in /usr/local/lib/python3.10/dist-packages (from datasets[audio]) (1.5.3)\n",
            "Requirement already satisfied: xxhash in /usr/local/lib/python3.10/dist-packages (from datasets[audio]) (3.4.1)\n",
            "Requirement already satisfied: multiprocess in /usr/local/lib/python3.10/dist-packages (from datasets[audio]) (0.70.15)\n",
            "Requirement already satisfied: fsspec[http]<=2023.10.0,>=2023.1.0 in /usr/local/lib/python3.10/dist-packages (from datasets[audio]) (2023.6.0)\n",
            "Requirement already satisfied: aiohttp in /usr/local/lib/python3.10/dist-packages (from datasets[audio]) (3.9.1)\n",
            "Requirement already satisfied: soundfile>=0.12.1 in /usr/local/lib/python3.10/dist-packages (from datasets[audio]) (0.12.1)\n",
            "Requirement already satisfied: librosa in /usr/local/lib/python3.10/dist-packages (from datasets[audio]) (0.10.1)\n",
            "Requirement already satisfied: attrs>=17.3.0 in /usr/local/lib/python3.10/dist-packages (from aiohttp->datasets[audio]) (23.2.0)\n",
            "Requirement already satisfied: multidict<7.0,>=4.5 in /usr/local/lib/python3.10/dist-packages (from aiohttp->datasets[audio]) (6.0.4)\n",
            "Requirement already satisfied: yarl<2.0,>=1.0 in /usr/local/lib/python3.10/dist-packages (from aiohttp->datasets[audio]) (1.9.4)\n",
            "Requirement already satisfied: frozenlist>=1.1.1 in /usr/local/lib/python3.10/dist-packages (from aiohttp->datasets[audio]) (1.4.1)\n",
            "Requirement already satisfied: aiosignal>=1.1.2 in /usr/local/lib/python3.10/dist-packages (from aiohttp->datasets[audio]) (1.3.1)\n",
            "Requirement already satisfied: async-timeout<5.0,>=4.0 in /usr/local/lib/python3.10/dist-packages (from aiohttp->datasets[audio]) (4.0.3)\n",
            "Requirement already satisfied: typing-extensions>=3.7.4.3 in /usr/local/lib/python3.10/dist-packages (from huggingface-hub<1.0,>=0.19.3->transformers==4.37.0.dev0) (4.5.0)\n",
            "Requirement already satisfied: charset-normalizer<4,>=2 in /usr/local/lib/python3.10/dist-packages (from requests->transformers==4.37.0.dev0) (3.3.2)\n",
            "Requirement already satisfied: idna<4,>=2.5 in /usr/local/lib/python3.10/dist-packages (from requests->transformers==4.37.0.dev0) (3.6)\n",
            "Requirement already satisfied: urllib3<3,>=1.21.1 in /usr/local/lib/python3.10/dist-packages (from requests->transformers==4.37.0.dev0) (2.0.7)\n",
            "Requirement already satisfied: certifi>=2017.4.17 in /usr/local/lib/python3.10/dist-packages (from requests->transformers==4.37.0.dev0) (2023.11.17)\n",
            "Requirement already satisfied: cffi>=1.0 in /usr/local/lib/python3.10/dist-packages (from soundfile>=0.12.1->datasets[audio]) (1.16.0)\n",
            "Requirement already satisfied: sympy in /usr/local/lib/python3.10/dist-packages (from torch>=1.10.0->accelerate) (1.12)\n",
            "Requirement already satisfied: networkx in /usr/local/lib/python3.10/dist-packages (from torch>=1.10.0->accelerate) (3.2.1)\n",
            "Requirement already satisfied: jinja2 in /usr/local/lib/python3.10/dist-packages (from torch>=1.10.0->accelerate) (3.1.2)\n",
            "Requirement already satisfied: triton==2.1.0 in /usr/local/lib/python3.10/dist-packages (from torch>=1.10.0->accelerate) (2.1.0)\n",
            "Requirement already satisfied: audioread>=2.1.9 in /usr/local/lib/python3.10/dist-packages (from librosa->datasets[audio]) (3.0.1)\n",
            "Requirement already satisfied: scipy>=1.2.0 in /usr/local/lib/python3.10/dist-packages (from librosa->datasets[audio]) (1.11.4)\n",
            "Requirement already satisfied: scikit-learn>=0.20.0 in /usr/local/lib/python3.10/dist-packages (from librosa->datasets[audio]) (1.2.2)\n",
            "Requirement already satisfied: joblib>=0.14 in /usr/local/lib/python3.10/dist-packages (from librosa->datasets[audio]) (1.3.2)\n",
            "Requirement already satisfied: decorator>=4.3.0 in /usr/local/lib/python3.10/dist-packages (from librosa->datasets[audio]) (4.4.2)\n",
            "Requirement already satisfied: numba>=0.51.0 in /usr/local/lib/python3.10/dist-packages (from librosa->datasets[audio]) (0.58.1)\n",
            "Requirement already satisfied: pooch>=1.0 in /usr/local/lib/python3.10/dist-packages (from librosa->datasets[audio]) (1.8.0)\n",
            "Requirement already satisfied: soxr>=0.3.2 in /usr/local/lib/python3.10/dist-packages (from librosa->datasets[audio]) (0.3.7)\n",
            "Requirement already satisfied: lazy-loader>=0.1 in /usr/local/lib/python3.10/dist-packages (from librosa->datasets[audio]) (0.3)\n",
            "Requirement already satisfied: msgpack>=1.0 in /usr/local/lib/python3.10/dist-packages (from librosa->datasets[audio]) (1.0.7)\n",
            "Requirement already satisfied: python-dateutil>=2.8.1 in /usr/local/lib/python3.10/dist-packages (from pandas->datasets[audio]) (2.8.2)\n",
            "Requirement already satisfied: pytz>=2020.1 in /usr/local/lib/python3.10/dist-packages (from pandas->datasets[audio]) (2023.3.post1)\n",
            "Requirement already satisfied: pycparser in /usr/local/lib/python3.10/dist-packages (from cffi>=1.0->soundfile>=0.12.1->datasets[audio]) (2.21)\n",
            "Requirement already satisfied: llvmlite<0.42,>=0.41.0dev0 in /usr/local/lib/python3.10/dist-packages (from numba>=0.51.0->librosa->datasets[audio]) (0.41.1)\n",
            "Requirement already satisfied: platformdirs>=2.5.0 in /usr/local/lib/python3.10/dist-packages (from pooch>=1.0->librosa->datasets[audio]) (4.1.0)\n",
            "Requirement already satisfied: six>=1.5 in /usr/local/lib/python3.10/dist-packages (from python-dateutil>=2.8.1->pandas->datasets[audio]) (1.16.0)\n",
            "Requirement already satisfied: threadpoolctl>=2.0.0 in /usr/local/lib/python3.10/dist-packages (from scikit-learn>=0.20.0->librosa->datasets[audio]) (3.2.0)\n",
            "Requirement already satisfied: MarkupSafe>=2.0 in /usr/local/lib/python3.10/dist-packages (from jinja2->torch>=1.10.0->accelerate) (2.1.3)\n",
            "Requirement already satisfied: mpmath>=0.19 in /usr/local/lib/python3.10/dist-packages (from sympy->torch>=1.10.0->accelerate) (1.3.0)\n"
          ]
        }
      ]
    },
    {
      "cell_type": "code",
      "source": [
        "import yt_dlp\n",
        "import subprocess\n",
        "from pathlib import Path\n",
        "from IPython.display import display, Markdown, YouTubeVideo"
      ],
      "metadata": {
        "id": "EyDLdUOSODQ7"
      },
      "execution_count": 5,
      "outputs": []
    },
    {
      "cell_type": "code",
      "source": [
        "# download youtube video\n",
        "# extract audio id wav format\n",
        "\n",
        "ydl_opts = {\n",
        "        'format': 'm4a/bestaudio/best',\n",
        "        'outtmpl': '%(id)s.%(ext)s',\n",
        "        'postprocessors': [{  # Extract audio using ffmpeg\n",
        "            'key': 'FFmpegExtractAudio',\n",
        "            'preferredcodec': 'wav',\n",
        "        }]\n",
        "}\n",
        "\n",
        "with yt_dlp.YoutubeDL(ydl_opts) as ydl:\n",
        "    error_code = ydl.download([youtube_video_url])\n",
        "    list_video_info = [ydl.extract_info(youtube_video_url, download=False)]\n",
        "\n",
        "v_list = []\n",
        "for video_info in list_video_info:\n",
        "    v_list.append(Path(f\"{video_info['id']}.wav\"))"
      ],
      "metadata": {
        "colab": {
          "base_uri": "https://localhost:8080/"
        },
        "id": "5i5DolsLOPNN",
        "outputId": "c1469ccf-b482-4ac4-ad6e-9651f83d7669"
      },
      "execution_count": 6,
      "outputs": [
        {
          "output_type": "stream",
          "name": "stdout",
          "text": [
            "[youtube] Extracting URL: https://www.youtube.com/watch?v=dDih3wTuhcM\n",
            "[youtube] dDih3wTuhcM: Downloading webpage\n",
            "[youtube] dDih3wTuhcM: Downloading ios player API JSON\n",
            "[youtube] dDih3wTuhcM: Downloading android player API JSON\n",
            "[youtube] dDih3wTuhcM: Downloading m3u8 information\n",
            "[info] dDih3wTuhcM: Downloading 1 format(s): 140\n",
            "[download] Destination: dDih3wTuhcM.m4a\n",
            "[download] 100% of   13.61MiB in 00:00:00 at 34.43MiB/s  \n",
            "[FixupM4a] Correcting container of \"dDih3wTuhcM.m4a\"\n",
            "[ExtractAudio] Destination: dDih3wTuhcM.wav\n",
            "Deleting original file dDih3wTuhcM.m4a (pass -k to keep)\n",
            "[youtube] Extracting URL: https://www.youtube.com/watch?v=dDih3wTuhcM\n",
            "[youtube] dDih3wTuhcM: Downloading webpage\n",
            "[youtube] dDih3wTuhcM: Downloading ios player API JSON\n",
            "[youtube] dDih3wTuhcM: Downloading android player API JSON\n",
            "[youtube] dDih3wTuhcM: Downloading m3u8 information\n"
          ]
        }
      ]
    },
    {
      "cell_type": "code",
      "source": [
        "for video_path_local in v_list:\n",
        "    if video_path_local.suffix == \".mp4\":\n",
        "        video_path_local = video_path_local.with_suffix(\".wav\")\n",
        "        result  = subprocess.run([\"ffmpeg\", \"-i\", str(video_path_local.with_suffix(\".mp4\")), \"-vn\", \"-acodec\", \"pcm_s16le\", \"-ar\", \"16000\", \"-ac\", \"1\", str(video_path_local)])\n"
      ],
      "metadata": {
        "id": "MsEFo6FrO5L3"
      },
      "execution_count": 7,
      "outputs": []
    },
    {
      "cell_type": "code",
      "source": [
        "# transcribe with the latest whisper model\n",
        "\n",
        "import torch\n",
        "from transformers import AutoModelForSpeechSeq2Seq, AutoProcessor, pipeline\n",
        "from datasets import load_dataset\n",
        "\n",
        "\n",
        "device = \"cuda:0\" if torch.cuda.is_available() else \"cpu\"\n",
        "torch_dtype = torch.float16 if torch.cuda.is_available() else torch.float32\n",
        "\n",
        "model_id = \"openai/whisper-large-v3\"\n",
        "\n",
        "model = AutoModelForSpeechSeq2Seq.from_pretrained(\n",
        "    model_id, torch_dtype=torch_dtype, low_cpu_mem_usage=True, use_safetensors=True\n",
        ")\n",
        "model.to(device)\n",
        "\n",
        "processor = AutoProcessor.from_pretrained(model_id)\n",
        "\n",
        "pipe = pipeline(\n",
        "    \"automatic-speech-recognition\",\n",
        "    model=model,\n",
        "    tokenizer=processor.tokenizer,\n",
        "    feature_extractor=processor.feature_extractor,\n",
        "    max_new_tokens=128,\n",
        "    chunk_length_s=30,\n",
        "    batch_size=16,\n",
        "    return_timestamps=True,\n",
        "    torch_dtype=torch_dtype,\n",
        "    device=device,\n",
        ")\n",
        "\n",
        "sample = str(v_list[0])\n",
        "\n",
        "result = pipe(sample, return_timestamps=True)\n",
        "print(result[\"chunks\"])\n",
        "\n"
      ],
      "metadata": {
        "colab": {
          "base_uri": "https://localhost:8080/"
        },
        "id": "_7pk5nvCK2PS",
        "outputId": "e6f15f5b-c798-4cec-884f-19300f2882a7"
      },
      "execution_count": 8,
      "outputs": [
        {
          "output_type": "stream",
          "name": "stderr",
          "text": [
            "/usr/local/lib/python3.10/dist-packages/huggingface_hub/utils/_token.py:88: UserWarning: \n",
            "The secret `HF_TOKEN` does not exist in your Colab secrets.\n",
            "To authenticate with the Hugging Face Hub, create a token in your settings tab (https://huggingface.co/settings/tokens), set it as secret in your Google Colab and restart your session.\n",
            "You will be able to reuse this secret in all of your notebooks.\n",
            "Please note that authentication is recommended but still optional to access public models or datasets.\n",
            "  warnings.warn(\n",
            "Special tokens have been added in the vocabulary, make sure the associated word embeddings are fine-tuned or trained.\n"
          ]
        },
        {
          "output_type": "stream",
          "name": "stdout",
          "text": [
            "[{'timestamp': (0.0, 5.42), 'text': \" In this video, I'm going to walk you through five simple steps to sell SaaS software as a service.\"}, {'timestamp': (5.84, 9.52), 'text': ' And you want to make sure you watch this video all the way through because these strategies are'}, {'timestamp': (9.52, 14.9), 'text': \" going to be applicable if you are selling a SaaS idea that's not quite built yet and you want to\"}, {'timestamp': (14.9, 20.02), 'text': \" pre-sell it. And it's also going to work even if you are working at a company selling an established\"}, {'timestamp': (20.02, 28.68), 'text': \" SaaS product. What's going on, everybody? It's Patrick Dang here. Before we get started, make sure to give this video a like, subscribe, and turn on notifications if you want to see more\"}, {'timestamp': (28.68, 33.36), 'text': \" sales training videos like this. And let's go ahead and dive right in. Now to understand from\"}, {'timestamp': (33.36, 38.54), 'text': ' a high level perspective, the SaaS sales funnel, essentially what we want to be thinking about is'}, {'timestamp': (38.54, 47.32), 'text': \" thinking our sales process as a funnel, almost like a triangle, right? So at the top of the funnel is your first step where you're gonna obviously have more people\"}, {'timestamp': (47.32, 50.4), 'text': ' and you try to get as many people in your funnel as possible.'}, {'timestamp': (50.76, 52.9), 'text': ' And as you walk them through every step, right,'}, {'timestamp': (52.94, 54.5), 'text': \" there's gonna be five steps for this video.\"}, {'timestamp': (54.84, 57.34), 'text': \" Well, you know, you're gonna filter out more and more people\"}, {'timestamp': (57.34, 59.02), 'text': ' until you get to the end of the funnel'}, {'timestamp': (59.02, 61.56), 'text': ' where people are actually qualified to buy'}, {'timestamp': (61.56, 64.18), 'text': ' and they end up purchasing your products and services.'}, {'timestamp': (64.7, 69.7), 'text': ' actually qualified to buy and they end up purchasing your products and services. And so this video is all about how to walk your prospects, your potential customers through every step of the'}, {'timestamp': (69.7, 75.66), 'text': ' funnel so that you can turn a total stranger into a paying customer. Now at the top of the funnel,'}, {'timestamp': (75.78, 80.92), 'text': ' right, the top of this triangle is going to be lead generation. So lead generation, in my opinion,'}, {'timestamp': (80.92, 85.2), 'text': ' is probably the most overlooked aspect of sales because'}, {'timestamp': (85.2, 88.5), 'text': \" if you think about a funnel, if you don't have the beginning of the funnel, meaning\"}, {'timestamp': (88.5, 93.56), 'text': \" people are not coming in as leads, you can't even walk them through any of the steps to\"}, {'timestamp': (93.56, 99.1), 'text': ' actually do the selling process, talk on the phone, do a presentation, close a deal, negotiate.'}, {'timestamp': (99.1, 102.5), 'text': ' You cannot do any of that without lead generation.'}, {'timestamp': (102.5, 105.64), 'text': ' So whether you are already a proven enterprise selling'}, {'timestamp': (105.64, 110.4), 'text': \" an established software, or if you're a startup and you're just really starting out and you haven't\"}, {'timestamp': (110.4, 116.64), 'text': ' built anything yet, you have to generate leads. Now for your industry, for whatever you are selling,'}, {'timestamp': (116.72, 120.84), 'text': \" it's going to vary a little different, right? For example, real estate in that industry,\"}, {'timestamp': (120.84, 125.98), 'text': ' it might be easier to cold call, you know, real estate brokerages and real estate agents to try to sell them that way.'}, {'timestamp': (126.38, 127.32), 'text': ' For other industries,'}, {'timestamp': (127.44, 129.74), 'text': ' it might be better to do a cold email, right?'}, {'timestamp': (130.0, 131.56), 'text': \" In other industries, like let's say,\"}, {'timestamp': (131.66, 133.54), 'text': \" if you're selling consulting services,\"}, {'timestamp': (133.62, 136.02), 'text': \" if you're installing any software or integrating anything,\"}, {'timestamp': (136.48, 139.58), 'text': ' using LinkedIn and social selling might be more effective.'}, {'timestamp': (139.96, 141.6), 'text': ' So whatever it is you are selling,'}, {'timestamp': (141.72, 146.14), 'text': \" just know that each channel is gonna vary depending on what you're selling\"}, {'timestamp': (146.14, 148.14), 'text': \" and who you're selling it to.\"}, {'timestamp': (148.28, 150.54), 'text': \" But what's most important is you find\"}, {'timestamp': (150.54, 154.5), 'text': ' at least one effective form of outreach and communication'}, {'timestamp': (154.5, 156.1), 'text': ' to start generating those leads.'}, {'timestamp': (156.32, 158.16), 'text': ' Once you get one down, you can expand.'}, {'timestamp': (158.3, 160.42), 'text': \" But if you don't have one way to generate leads,\"}, {'timestamp': (160.48, 162.32), 'text': \" whether it's cold email, LinkedIn, or whatever,\"}, {'timestamp': (162.74, 163.8), 'text': ' well, you got nothing.'}, {'timestamp': (163.8, 166.6), 'text': ' So definitely find one that works for you first and my'}, {'timestamp': (166.6, 170.56), 'text': ' recommendation is to look at you know other people in your industry maybe your'}, {'timestamp': (170.56, 173.94), 'text': \" competitors or people who are much larger than you and see how they're\"}, {'timestamp': (173.94, 177.9), 'text': \" doing it chances are if it's working for them in their industry it probably can\"}, {'timestamp': (177.9, 181.56), 'text': ' work for you too if you just kind of follow a similar route now the next step'}, {'timestamp': (181.56, 185.32), 'text': ' of the SAS selling process is you want to qualify your'}, {'timestamp': (185.32, 189.14), 'text': \" prospects, right? Because not everyone is going to be a fit to buy. For example, if you're sending\"}, {'timestamp': (189.14, 193.18), 'text': ' a hundred emails, how do you know for sure that these people are actually going to buy from you?'}, {'timestamp': (193.2, 196.84), 'text': \" You don't. And that's why you have to get on the phone, right? You basically send them an email,\"}, {'timestamp': (196.94, 206.94), 'text': ' say, do you want to have a meeting? You get on the phone and you qualify them before you start selling anything, right? So qualification is extremely important because you are basically asking a bunch of questions,'}, {'timestamp': (206.94, 208.46), 'text': ' understanding the customer,'}, {'timestamp': (208.46, 211.46), 'text': ' and seeing if they are a good fit to buy.'}, {'timestamp': (211.46, 213.18), 'text': \" I'm not saying you have to force anything.\"}, {'timestamp': (213.18, 214.82), 'text': \" I'm just saying, is there a fit?\"}, {'timestamp': (214.82, 216.92), 'text': ' Do they have a problem that you can solve'}, {'timestamp': (216.92, 218.36), 'text': ' with your SaaS product?'}, {'timestamp': (218.36, 221.0), 'text': \" So from a tactical level, how it's gonna work is\"}, {'timestamp': (221.0, 222.48), 'text': ' you get on the phone with a prospect'}, {'timestamp': (222.48, 227.12), 'text': \" and you have a little building rapport, chat a little bit like, oh, how's the weather over there? Oh, where are you from?\"}, {'timestamp': (227.34, 231.48), 'text': ' Then you say something like, hey, I want to be respectful of your time. So how about we go ahead'}, {'timestamp': (231.48, 235.14), 'text': \" and get started? Is that okay with you? And they're going to say, sure, let's go ahead and get started.\"}, {'timestamp': (248.16, 253.0), 'text': \" Right. And that's how you start a say yes. And as you qualify the prospect, the main things you are looking for from a high level is you want to look for a couple things. Do they have a pain that you can solve? Is that pain bad enough that they're going to pay\"}, {'timestamp': (253.0, 259.02), 'text': \" money to you to solve it? Okay. If that's true, then you want to talk about, okay, do they even\"}, {'timestamp': (259.02, 266.1), 'text': \" have the budget to buy whatever it is you're offering? when do they want to buy, and who is gonna buy,\"}, {'timestamp': (266.1, 268.28), 'text': ' meaning who are the other decision makers'}, {'timestamp': (268.28, 269.94), 'text': ' involved in this process.'}, {'timestamp': (269.94, 271.8), 'text': ' And you wanna get all these questions answered'}, {'timestamp': (271.8, 273.72), 'text': ' during the qualification process,'}, {'timestamp': (273.72, 276.86), 'text': ' and some people also call it the discovery phase.'}, {'timestamp': (276.86, 278.4), 'text': ' You can kind of mix the two together'}, {'timestamp': (278.4, 280.24), 'text': \" where you're just learning about the prospect,\"}, {'timestamp': (280.24, 282.34), 'text': ' getting as much information as possible,'}, {'timestamp': (282.34, 283.66), 'text': ' and by the end of the meeting,'}, {'timestamp': (283.66, 285.74), 'text': ' your only goal is to understand,'}, {'timestamp': (285.74, 288.12), 'text': ' hey, is this person someone'}, {'timestamp': (288.12, 289.9), 'text': ' that should buy my product and service?'}, {'timestamp': (289.9, 292.8), 'text': \" You're not even quite selling them quite yet.\"}, {'timestamp': (292.8, 295.2), 'text': \" You're actually just gathering information\"}, {'timestamp': (295.2, 298.74), 'text': ' to see if they are worthy, right, qualified,'}, {'timestamp': (298.74, 300.4), 'text': ' to move to the next step,'}, {'timestamp': (300.4, 302.46), 'text': ' which moves us to step number three,'}, {'timestamp': (302.46, 304.3), 'text': ' which is your presentations,'}, {'timestamp': (304.3, 305.44), 'text': ' your demonstrations,'}, {'timestamp': (305.44, 306.9), 'text': ' and your pitches, okay?'}, {'timestamp': (306.9, 309.0), 'text': \" So I'm kind of bundling this all together.\"}, {'timestamp': (309.0, 310.96), 'text': ' Now, once you qualify the prospect,'}, {'timestamp': (310.96, 314.34), 'text': ' the next step is to do some type of presentation,'}, {'timestamp': (314.34, 317.0), 'text': ' a pitch, or a demonstration to show them'}, {'timestamp': (317.0, 319.04), 'text': ' how you actually solve their problem,'}, {'timestamp': (319.04, 322.18), 'text': ' what your product actually is, what value you provide,'}, {'timestamp': (322.18, 323.9), 'text': ' and to actually show them the software'}, {'timestamp': (323.9, 329.98), 'text': ' if you already have it built. What does it actually do? What does it look like? What does it feel? Is it easy to use,'}, {'timestamp': (330.02, 334.4), 'text': \" right? And this is where you're going to start actually selling. Now, the important part to\"}, {'timestamp': (334.4, 339.6), 'text': ' understand is before you even sell anything, you have to first qualify the prospect, right? Because'}, {'timestamp': (339.6, 345.12), 'text': \" if you start selling in the beginning, you're not even sure if this person even cares about what you have to say\"}, {'timestamp': (345.12, 350.08), 'text': ' but if you qualify the prospect first then suddenly everything you say in your demonstration'}, {'timestamp': (350.08, 355.84), 'text': \" is going to hit a lot harder because you're directly addressing the pains that you uncovered\"}, {'timestamp': (355.84, 360.08), 'text': ' during the qualification step now in your presentation demonstration however you want'}, {'timestamp': (360.08, 365.36), 'text': ' to do it the main thing you want to remember is that you only want to talk about the pain'}, {'timestamp': (365.36, 371.7), 'text': \" points the prospect already told you during the qualification phase. If they didn't talk about\"}, {'timestamp': (371.7, 375.64), 'text': \" those pains, don't talk about it in your presentation because they actually don't care,\"}, {'timestamp': (375.72, 379.0), 'text': \" right? Don't talk about all the different features that you have and all the things you can do\"}, {'timestamp': (379.0, 385.24), 'text': \" because that's not what they came for the meeting for. They came to see how you can solve their problem.\"}, {'timestamp': (385.24, 386.52), 'text': ' Now, from my personal experience,'}, {'timestamp': (386.52, 389.48), 'text': ' I find the best way to do a SaaS demonstration'}, {'timestamp': (389.48, 390.94), 'text': ' or presentation is actually,'}, {'timestamp': (390.94, 392.24), 'text': \" if you're doing it remotely, right?\"}, {'timestamp': (392.24, 394.0), 'text': \" Whether you're like sharing your screen\"}, {'timestamp': (394.0, 396.0), 'text': \" and you're talking to the person,\"}, {'timestamp': (396.0, 397.24), 'text': ' maybe with a Zoom call,'}, {'timestamp': (397.24, 400.44), 'text': ' I would share my screen and I would do a presentation,'}, {'timestamp': (400.44, 402.38), 'text': ' probably using PowerPoint or Keynote,'}, {'timestamp': (402.38, 406.8), 'text': ' and basically walk them through the pains that they had and how we solved their pains.'}, {'timestamp': (406.8, 410.48), 'text': ' And why I prefer using a Keynote or PowerPoint'}, {'timestamp': (410.48, 412.42), 'text': \" is because you're using your audio,\"}, {'timestamp': (412.42, 413.26), 'text': \" you're using your voice,\"}, {'timestamp': (413.26, 415.58), 'text': \" and at the same time, you're using visuals\"}, {'timestamp': (415.58, 417.8), 'text': ' so you can clearly demonstrate'}, {'timestamp': (417.8, 419.08), 'text': \" the problems that you're solving.\"}, {'timestamp': (419.08, 420.32), 'text': \" It's a very simple thing, right?\"}, {'timestamp': (420.32, 421.56), 'text': \" You're just gonna slide by slide.\"}, {'timestamp': (421.56, 427.46), 'text': \" And you don't have to memorize too many things. You're literally just going with the script and talking them through it. Now, on top of that,\"}, {'timestamp': (427.8, 431.2), 'text': \" but I would also recommend, and now if you have some kind of software that's very easy to use\"}, {'timestamp': (431.2, 436.16), 'text': \" and it's fast and it's working, I would use a combination of PowerPoint and then also go into\"}, {'timestamp': (436.16, 439.86), 'text': ' the software after you kind of finish your PowerPoint to show them like, hey, you know,'}, {'timestamp': (445.68, 447.22), 'text': \" this is how we do the thing I was talking about. This is how you add people here and delete people here and this and that. It depends on what you're selling, right?\"}, {'timestamp': (447.22, 452.1), 'text': ' And I would show them how the software actually works so they can visualize, oh, this is how'}, {'timestamp': (452.1, 455.48), 'text': ' my life would look if I bought this software from Patrick.'}, {'timestamp': (455.48, 459.38), 'text': \" And again, when you talk about the different features in your software, whether it's through\"}, {'timestamp': (459.38, 465.14), 'text': \" the PowerPoint or actually going into your software and showing them live, you're only gonna wanna talk about the things\"}, {'timestamp': (465.14, 466.82), 'text': ' that they care about, obviously.'}, {'timestamp': (467.2, 468.86), 'text': \" Don't talk about all the different features\"}, {'timestamp': (468.86, 469.92), 'text': ' that you have, right?'}, {'timestamp': (470.02, 472.08), 'text': \" Especially if you're working at an enterprise company\"}, {'timestamp': (472.08, 473.84), 'text': ' and they have all these different type of features'}, {'timestamp': (473.84, 475.68), 'text': \" that nobody uses, don't talk about those\"}, {'timestamp': (475.68, 476.72), 'text': \" because they didn't ask for that.\"}, {'timestamp': (476.76, 480.4), 'text': ' They asked for the features that solve their problem, right?'}, {'timestamp': (480.74, 482.5), 'text': ' Paint, solution, match it together,'}, {'timestamp': (488.68, 492.18), 'text': \" and that's how you do your presentations now the next step of the SAS selling process is you're gonna want to go for the clothes or go for the next steps now typically when you're selling SAS not\"}, {'timestamp': (492.18, 497.82), 'text': ' everyone is going to buy on the spot and buy right after the demonstration right'}, {'timestamp': (497.82, 501.16), 'text': \" because a lot of times if you're selling something more complicated especially if\"}, {'timestamp': (501.16, 504.84), 'text': \" it's more enterprise or if it's quite expensive you're gonna need multiple\"}, {'timestamp': (504.84, 509.28), 'text': ' people involved in the prospect sides before they make a decision, right? Maybe their'}, {'timestamp': (509.28, 514.06), 'text': ' CTO, CMO, CEO all have to get together in the meeting to decide whether or not they should'}, {'timestamp': (514.06, 519.44), 'text': \" purchase a product or service from you. So that's why you can't always expect someone to close right\"}, {'timestamp': (519.44, 524.38), 'text': \" there unless you're selling something that's fairly obvious, very transactional and not very expensive.\"}, {'timestamp': (528.56, 529.4), 'text': ' Then yeah, maybe they will buy after you do the presentation and do a demonstration.'}, {'timestamp': (529.4, 531.52), 'text': \" However, if you're doing something very complicated,\"}, {'timestamp': (531.52, 533.4), 'text': ' it takes many people to integrate the software'}, {'timestamp': (533.4, 534.24), 'text': ' and things like that,'}, {'timestamp': (534.24, 535.76), 'text': ' and they have to hire consultants'}, {'timestamp': (535.76, 537.44), 'text': ' and all these different things,'}, {'timestamp': (537.44, 539.42), 'text': \" don't expect it to close because there's a lot of steps\"}, {'timestamp': (539.42, 547.62), 'text': ' that need to happen before things actually do close. So what you wanna do instead is you want to understand what the next step is in the selling process'}, {'timestamp': (547.62, 549.18), 'text': ' for the prospect, right?'}, {'timestamp': (549.18, 551.5), 'text': ' So instead of saying like, hey, do you wanna buy now?'}, {'timestamp': (551.5, 553.24), 'text': ' You could say something like, hey, you know,'}, {'timestamp': (553.24, 555.06), 'text': ' based on everything we talked about so far,'}, {'timestamp': (555.06, 558.2), 'text': ' is there anything else you need to see before moving forward?'}, {'timestamp': (558.2, 559.38), 'text': ' And if they have any objections,'}, {'timestamp': (559.38, 560.28), 'text': ' you handle them right there.'}, {'timestamp': (560.28, 568.04), 'text': \" If they say, nope, you you know that's everything we need to see then you're like okay so it seems like you guys are interested well you know just curious to understand you know what exactly is\"}, {'timestamp': (568.04, 572.08), 'text': \" the next step for you if you were to move forward with this now what's going to happen when you ask\"}, {'timestamp': (572.08, 577.2), 'text': ' a question like this is the prospect is going to tell you exactly what needs to happen on their'}, {'timestamp': (577.2, 589.12), 'text': \" side if they want to buy right and if they actually do want to buy they might want to buy right now but they cannot because maybe there's an approval process. So they might say, okay, well, Patrick, thanks for doing the presentation. Well, usually\"}, {'timestamp': (589.12, 592.5), 'text': \" our next step is I got to talk to my boss about it. And then we're going to go to procurement.\"}, {'timestamp': (592.72, 595.8), 'text': ' And then we got to talk to a tech guy to see if this is going to work with this and that.'}, {'timestamp': (596.4, 606.98), 'text': \" And then, you know, they're going to tell you every sale is a little different. So they're going to tell you what the next steps are, right? And then you're basically going to ask, okay, interesting. Well, how long is it going to take for you to have those conversations, right? When\"}, {'timestamp': (606.98, 610.5), 'text': \" will you have those conversations? And then they're going to say, oh, probably sometime next\"}, {'timestamp': (610.5, 614.7), 'text': \" week. And then you're going to say, okay, do you need me to be on that conversation to make sure\"}, {'timestamp': (614.7, 618.78), 'text': ' that everything goes smoothly and I can answer any of those questions? And they might say, okay,'}, {'timestamp': (625.8, 625.98), 'text': \" yeah, that sounds pretty good, Patrick. Patrick, it'd be easier for you to do it than me to do it. So then what I would do as a salesperson is I would make a recommendation.\"}, {'timestamp': (628.08, 628.46), 'text': \" I'll say, hey, do you mind if I make a recommendation?\"}, {'timestamp': (629.02, 629.34), 'text': \" They'll say, sure.\"}, {'timestamp': (632.68, 634.56), 'text': ' Well, it seems like if you need to talk to this person, talk to the IT guy and talk to this person, how about we go ahead and do this?'}, {'timestamp': (634.6, 637.76), 'text': ' We schedule a meeting with everybody, me, you, and everyone included.'}, {'timestamp': (646.1, 649.36), 'text': \" And we have a conversation to see This is really a good fit for everyone. And that way, you know, you don't have to do it by yourself. And I could help answer some of the questions that maybe your boss might have, the IT guy might have,\"}, {'timestamp': (649.36, 651.02), 'text': ' and it will be a lot smoother, quicker,'}, {'timestamp': (651.02, 652.6), 'text': ' and it will save a lot of time for both of us.'}, {'timestamp': (652.6, 653.68), 'text': ' How does that sound?'}, {'timestamp': (653.68, 654.52), 'text': ' And the other person might say,'}, {'timestamp': (654.52, 656.18), 'text': ' okay, that sounds pretty good, Patrick.'}, {'timestamp': (656.18, 667.68), 'text': ' Well, let me go ahead and put a tentative date for now? And then you try to get everyone on. How about next week, Wednesday, 10'}, {'timestamp': (667.68, 671.54), 'text': \" AM? Does that sound good with you? And they're going to say yes. And then that basically closes\"}, {'timestamp': (671.54, 677.5), 'text': ' out the presentation and moves them to the next step. Right. And so usually for like longer deals'}, {'timestamp': (677.5, 686.06), 'text': ' where, you know, it takes multiple steps before someone closes a deal, you basically have to keep doing this over and over and over until you go through every step that a company needs'}, {'timestamp': (686.06, 687.62), 'text': ' to go through before buying, right?'}, {'timestamp': (687.62, 690.66), 'text': ' So after all that, maybe they get on the call,'}, {'timestamp': (690.66, 691.5), 'text': ' everything sounds good,'}, {'timestamp': (691.5, 693.16), 'text': ' and then you ask them the same thing, you know,'}, {'timestamp': (693.16, 694.0), 'text': ' to everyone and say,'}, {'timestamp': (694.0, 695.24), 'text': ' hey, is there anything else you need to see'}, {'timestamp': (695.24, 696.22), 'text': ' before moving forward?'}, {'timestamp': (696.22, 697.98), 'text': \" And they're gonna say, okay, well, we need to do this.\"}, {'timestamp': (697.98, 708.3), 'text': \" And then you basically drop a timeline, make sure both sides know and then do the thing and have another meeting and then you keep doing that until you get to a point where they're ready to close you send them the contract and that's\"}, {'timestamp': (708.3, 712.82), 'text': \" when they sign but it isn't always that easy which leads us to the final step which is following up\"}, {'timestamp': (712.82, 718.24), 'text': \" so any type of sales deals you know whether you're selling sass and enterprise startup whatever it is\"}, {'timestamp': (718.24, 728.84), 'text': \" you know not everything goes according to plan sometimes things get delayed sometimes people it's just not the right time in the moment, or maybe they had the budget, then they lost the budget, then they had need to wait for the budget,\"}, {'timestamp': (728.94, 732.76), 'text': \" right? There's so many different things that can happen. And sometimes it's just totally out of\"}, {'timestamp': (732.76, 737.9), 'text': \" the blue and you don't expect it. So what you want to do is you want to always be following up if\"}, {'timestamp': (737.9, 748.7), 'text': \" things don't go the way you want and things get off track, right? And as you can see, the way I'm selling is I'm always creating a timeline that I understand and they understand. We're on the same page working together to close\"}, {'timestamp': (748.7, 753.78), 'text': \" the deal. But when things don't go according to plan, well, you want to make sure that you follow\"}, {'timestamp': (753.78, 760.18), 'text': ' up, right? So if someone says, okay, you know, everything sounds good, Patrick, but, you know,'}, {'timestamp': (760.24, 764.8), 'text': \" our company just pulled the budget. We don't have any money to buy this IT anymore. Then I would say,\"}, {'timestamp': (767.02, 771.24), 'text': \" okay know our company just pulled the budget we don't have any money to buy this IT anymore then I would say okay totally understand that happens all the time right nothing we can really do about that but now I'm just curious you know\"}, {'timestamp': (771.24, 774.4), 'text': ' in the future is this something that your company wants to do in the future'}, {'timestamp': (774.4, 776.98), 'text': \" and create a budget for it or is this something that they just don't care\"}, {'timestamp': (776.98, 781.12), 'text': \" about at all and the person might say yeah we want to do this but it's just\"}, {'timestamp': (781.12, 786.0), 'text': ' that they need the money for this other project and maybe six months from now,'}, {'timestamp': (786.0, 787.32), 'text': \" we're gonna get the budget again.\"}, {'timestamp': (787.32, 789.64), 'text': ' So then you basically schedule another meeting'}, {'timestamp': (789.64, 791.36), 'text': ' or basically you could say something like,'}, {'timestamp': (791.36, 793.24), 'text': \" okay, well that's totally fine.\"}, {'timestamp': (793.24, 794.6), 'text': ' How about this, six months from now,'}, {'timestamp': (794.6, 795.6), 'text': \" I'll go ahead and follow up with you.\"}, {'timestamp': (795.6, 796.94), 'text': \" Maybe I'll send you an email, give you a call,\"}, {'timestamp': (796.94, 798.26), 'text': ' whatever works best for you.'}, {'timestamp': (798.26, 808.14), 'text': \" And you know, we can kind of start things over and resume the conversation. But if not, totally fine, because I understand if you don't have money, you can't buy.\"}, {'timestamp': (808.24, 812.22), 'text': \" Is that right? And they're going to say, okay, it sounds totally fine. So you create an opportunity\"}, {'timestamp': (812.22, 816.14), 'text': \" for you to follow up six months from now, right? And that's very different from, let's say,\"}, {'timestamp': (825.1, 829.48), 'text': \" you say, okay, thanks, bye. And then six months from now, you give them ahead of time that you're going to follow up, following up is a lot easier because they already expect you to call them or expect your email. You're almost like\"}, {'timestamp': (829.48, 834.22), 'text': \" friends. But if you're just like not setting those expectations in the beginning and you try to\"}, {'timestamp': (834.22, 837.38), 'text': \" follow up later, they're not going to pick up your calls. They're not going to respond to your email\"}, {'timestamp': (837.38, 845.38), 'text': \" because they don't feel like they need to. They never agreed to it, right? So that's why when you follow up, make sure you, you know, set the expectations\"}, {'timestamp': (845.38, 850.7), 'text': ' in the beginning for your follow-up if you can, and then just keep following up until something'}, {'timestamp': (850.7, 855.04), 'text': \" changes on their side. And then when they're ready to buy again, they have the budget, they're ready\"}, {'timestamp': (855.04, 859.6), 'text': \" to go, you're the first person they're going to think of to move forward. And so with that said,\"}, {'timestamp': (859.68, 865.16), 'text': \" that's going to be the five steps to selling SaaS, whether you're working at a startup or a large company.\"}, {'timestamp': (865.7, 869.88), 'text': ' If you enjoyed this video, make sure to give it a like, subscribe, and turn on notifications.'}, {'timestamp': (870.36, 873.7), 'text': ' And if you want a free training on how to start, accelerate your sales career,'}, {'timestamp': (873.92, 877.88), 'text': ' and sell anything to anyone, I got a free training. Link is in the description.'}, {'timestamp': (878.3, 881.18), 'text': \" So with that said, my name is Patrick Dang, and I'll see you guys in the next one.\"}]\n"
          ]
        }
      ]
    },
    {
      "cell_type": "code",
      "source": [
        "result[\"text\"]"
      ],
      "metadata": {
        "colab": {
          "base_uri": "https://localhost:8080/",
          "height": 122
        },
        "id": "F_yTSMqOSXWj",
        "outputId": "883b693a-66c3-497d-e4c7-ebb347fd19ed"
      },
      "execution_count": 9,
      "outputs": [
        {
          "output_type": "execute_result",
          "data": {
            "text/plain": [
              "\" In this video, I'm going to walk you through five simple steps to sell SaaS software as a service. And you want to make sure you watch this video all the way through because these strategies are going to be applicable if you are selling a SaaS idea that's not quite built yet and you want to pre-sell it. And it's also going to work even if you are working at a company selling an established SaaS product. What's going on, everybody? It's Patrick Dang here. Before we get started, make sure to give this video a like, subscribe, and turn on notifications if you want to see more sales training videos like this. And let's go ahead and dive right in. Now to understand from a high level perspective, the SaaS sales funnel, essentially what we want to be thinking about is thinking our sales process as a funnel, almost like a triangle, right? So at the top of the funnel is your first step where you're gonna obviously have more people and you try to get as many people in your funnel as possible. And as you walk them through every step, right, there's gonna be five steps for this video. Well, you know, you're gonna filter out more and more people until you get to the end of the funnel where people are actually qualified to buy and they end up purchasing your products and services. actually qualified to buy and they end up purchasing your products and services. And so this video is all about how to walk your prospects, your potential customers through every step of the funnel so that you can turn a total stranger into a paying customer. Now at the top of the funnel, right, the top of this triangle is going to be lead generation. So lead generation, in my opinion, is probably the most overlooked aspect of sales because if you think about a funnel, if you don't have the beginning of the funnel, meaning people are not coming in as leads, you can't even walk them through any of the steps to actually do the selling process, talk on the phone, do a presentation, close a deal, negotiate. You cannot do any of that without lead generation. So whether you are already a proven enterprise selling an established software, or if you're a startup and you're just really starting out and you haven't built anything yet, you have to generate leads. Now for your industry, for whatever you are selling, it's going to vary a little different, right? For example, real estate in that industry, it might be easier to cold call, you know, real estate brokerages and real estate agents to try to sell them that way. For other industries, it might be better to do a cold email, right? In other industries, like let's say, if you're selling consulting services, if you're installing any software or integrating anything, using LinkedIn and social selling might be more effective. So whatever it is you are selling, just know that each channel is gonna vary depending on what you're selling and who you're selling it to. But what's most important is you find at least one effective form of outreach and communication to start generating those leads. Once you get one down, you can expand. But if you don't have one way to generate leads, whether it's cold email, LinkedIn, or whatever, well, you got nothing. So definitely find one that works for you first and my recommendation is to look at you know other people in your industry maybe your competitors or people who are much larger than you and see how they're doing it chances are if it's working for them in their industry it probably can work for you too if you just kind of follow a similar route now the next step of the SAS selling process is you want to qualify your prospects, right? Because not everyone is going to be a fit to buy. For example, if you're sending a hundred emails, how do you know for sure that these people are actually going to buy from you? You don't. And that's why you have to get on the phone, right? You basically send them an email, say, do you want to have a meeting? You get on the phone and you qualify them before you start selling anything, right? So qualification is extremely important because you are basically asking a bunch of questions, understanding the customer, and seeing if they are a good fit to buy. I'm not saying you have to force anything. I'm just saying, is there a fit? Do they have a problem that you can solve with your SaaS product? So from a tactical level, how it's gonna work is you get on the phone with a prospect and you have a little building rapport, chat a little bit like, oh, how's the weather over there? Oh, where are you from? Then you say something like, hey, I want to be respectful of your time. So how about we go ahead and get started? Is that okay with you? And they're going to say, sure, let's go ahead and get started. Right. And that's how you start a say yes. And as you qualify the prospect, the main things you are looking for from a high level is you want to look for a couple things. Do they have a pain that you can solve? Is that pain bad enough that they're going to pay money to you to solve it? Okay. If that's true, then you want to talk about, okay, do they even have the budget to buy whatever it is you're offering? when do they want to buy, and who is gonna buy, meaning who are the other decision makers involved in this process. And you wanna get all these questions answered during the qualification process, and some people also call it the discovery phase. You can kind of mix the two together where you're just learning about the prospect, getting as much information as possible, and by the end of the meeting, your only goal is to understand, hey, is this person someone that should buy my product and service? You're not even quite selling them quite yet. You're actually just gathering information to see if they are worthy, right, qualified, to move to the next step, which moves us to step number three, which is your presentations, your demonstrations, and your pitches, okay? So I'm kind of bundling this all together. Now, once you qualify the prospect, the next step is to do some type of presentation, a pitch, or a demonstration to show them how you actually solve their problem, what your product actually is, what value you provide, and to actually show them the software if you already have it built. What does it actually do? What does it look like? What does it feel? Is it easy to use, right? And this is where you're going to start actually selling. Now, the important part to understand is before you even sell anything, you have to first qualify the prospect, right? Because if you start selling in the beginning, you're not even sure if this person even cares about what you have to say but if you qualify the prospect first then suddenly everything you say in your demonstration is going to hit a lot harder because you're directly addressing the pains that you uncovered during the qualification step now in your presentation demonstration however you want to do it the main thing you want to remember is that you only want to talk about the pain points the prospect already told you during the qualification phase. If they didn't talk about those pains, don't talk about it in your presentation because they actually don't care, right? Don't talk about all the different features that you have and all the things you can do because that's not what they came for the meeting for. They came to see how you can solve their problem. Now, from my personal experience, I find the best way to do a SaaS demonstration or presentation is actually, if you're doing it remotely, right? Whether you're like sharing your screen and you're talking to the person, maybe with a Zoom call, I would share my screen and I would do a presentation, probably using PowerPoint or Keynote, and basically walk them through the pains that they had and how we solved their pains. And why I prefer using a Keynote or PowerPoint is because you're using your audio, you're using your voice, and at the same time, you're using visuals so you can clearly demonstrate the problems that you're solving. It's a very simple thing, right? You're just gonna slide by slide. And you don't have to memorize too many things. You're literally just going with the script and talking them through it. Now, on top of that, but I would also recommend, and now if you have some kind of software that's very easy to use and it's fast and it's working, I would use a combination of PowerPoint and then also go into the software after you kind of finish your PowerPoint to show them like, hey, you know, this is how we do the thing I was talking about. This is how you add people here and delete people here and this and that. It depends on what you're selling, right? And I would show them how the software actually works so they can visualize, oh, this is how my life would look if I bought this software from Patrick. And again, when you talk about the different features in your software, whether it's through the PowerPoint or actually going into your software and showing them live, you're only gonna wanna talk about the things that they care about, obviously. Don't talk about all the different features that you have, right? Especially if you're working at an enterprise company and they have all these different type of features that nobody uses, don't talk about those because they didn't ask for that. They asked for the features that solve their problem, right? Paint, solution, match it together, and that's how you do your presentations now the next step of the SAS selling process is you're gonna want to go for the clothes or go for the next steps now typically when you're selling SAS not everyone is going to buy on the spot and buy right after the demonstration right because a lot of times if you're selling something more complicated especially if it's more enterprise or if it's quite expensive you're gonna need multiple people involved in the prospect sides before they make a decision, right? Maybe their CTO, CMO, CEO all have to get together in the meeting to decide whether or not they should purchase a product or service from you. So that's why you can't always expect someone to close right there unless you're selling something that's fairly obvious, very transactional and not very expensive. Then yeah, maybe they will buy after you do the presentation and do a demonstration. However, if you're doing something very complicated, it takes many people to integrate the software and things like that, and they have to hire consultants and all these different things, don't expect it to close because there's a lot of steps that need to happen before things actually do close. So what you wanna do instead is you want to understand what the next step is in the selling process for the prospect, right? So instead of saying like, hey, do you wanna buy now? You could say something like, hey, you know, based on everything we talked about so far, is there anything else you need to see before moving forward? And if they have any objections, you handle them right there. If they say, nope, you you know that's everything we need to see then you're like okay so it seems like you guys are interested well you know just curious to understand you know what exactly is the next step for you if you were to move forward with this now what's going to happen when you ask a question like this is the prospect is going to tell you exactly what needs to happen on their side if they want to buy right and if they actually do want to buy they might want to buy right now but they cannot because maybe there's an approval process. So they might say, okay, well, Patrick, thanks for doing the presentation. Well, usually our next step is I got to talk to my boss about it. And then we're going to go to procurement. And then we got to talk to a tech guy to see if this is going to work with this and that. And then, you know, they're going to tell you every sale is a little different. So they're going to tell you what the next steps are, right? And then you're basically going to ask, okay, interesting. Well, how long is it going to take for you to have those conversations, right? When will you have those conversations? And then they're going to say, oh, probably sometime next week. And then you're going to say, okay, do you need me to be on that conversation to make sure that everything goes smoothly and I can answer any of those questions? And they might say, okay, yeah, that sounds pretty good, Patrick. Patrick, it'd be easier for you to do it than me to do it. So then what I would do as a salesperson is I would make a recommendation. I'll say, hey, do you mind if I make a recommendation? They'll say, sure. Well, it seems like if you need to talk to this person, talk to the IT guy and talk to this person, how about we go ahead and do this? We schedule a meeting with everybody, me, you, and everyone included. And we have a conversation to see This is really a good fit for everyone. And that way, you know, you don't have to do it by yourself. And I could help answer some of the questions that maybe your boss might have, the IT guy might have, and it will be a lot smoother, quicker, and it will save a lot of time for both of us. How does that sound? And the other person might say, okay, that sounds pretty good, Patrick. Well, let me go ahead and put a tentative date for now? And then you try to get everyone on. How about next week, Wednesday, 10 AM? Does that sound good with you? And they're going to say yes. And then that basically closes out the presentation and moves them to the next step. Right. And so usually for like longer deals where, you know, it takes multiple steps before someone closes a deal, you basically have to keep doing this over and over and over until you go through every step that a company needs to go through before buying, right? So after all that, maybe they get on the call, everything sounds good, and then you ask them the same thing, you know, to everyone and say, hey, is there anything else you need to see before moving forward? And they're gonna say, okay, well, we need to do this. And then you basically drop a timeline, make sure both sides know and then do the thing and have another meeting and then you keep doing that until you get to a point where they're ready to close you send them the contract and that's when they sign but it isn't always that easy which leads us to the final step which is following up so any type of sales deals you know whether you're selling sass and enterprise startup whatever it is you know not everything goes according to plan sometimes things get delayed sometimes people it's just not the right time in the moment, or maybe they had the budget, then they lost the budget, then they had need to wait for the budget, right? There's so many different things that can happen. And sometimes it's just totally out of the blue and you don't expect it. So what you want to do is you want to always be following up if things don't go the way you want and things get off track, right? And as you can see, the way I'm selling is I'm always creating a timeline that I understand and they understand. We're on the same page working together to close the deal. But when things don't go according to plan, well, you want to make sure that you follow up, right? So if someone says, okay, you know, everything sounds good, Patrick, but, you know, our company just pulled the budget. We don't have any money to buy this IT anymore. Then I would say, okay know our company just pulled the budget we don't have any money to buy this IT anymore then I would say okay totally understand that happens all the time right nothing we can really do about that but now I'm just curious you know in the future is this something that your company wants to do in the future and create a budget for it or is this something that they just don't care about at all and the person might say yeah we want to do this but it's just that they need the money for this other project and maybe six months from now, we're gonna get the budget again. So then you basically schedule another meeting or basically you could say something like, okay, well that's totally fine. How about this, six months from now, I'll go ahead and follow up with you. Maybe I'll send you an email, give you a call, whatever works best for you. And you know, we can kind of start things over and resume the conversation. But if not, totally fine, because I understand if you don't have money, you can't buy. Is that right? And they're going to say, okay, it sounds totally fine. So you create an opportunity for you to follow up six months from now, right? And that's very different from, let's say, you say, okay, thanks, bye. And then six months from now, you give them ahead of time that you're going to follow up, following up is a lot easier because they already expect you to call them or expect your email. You're almost like friends. But if you're just like not setting those expectations in the beginning and you try to follow up later, they're not going to pick up your calls. They're not going to respond to your email because they don't feel like they need to. They never agreed to it, right? So that's why when you follow up, make sure you, you know, set the expectations in the beginning for your follow-up if you can, and then just keep following up until something changes on their side. And then when they're ready to buy again, they have the budget, they're ready to go, you're the first person they're going to think of to move forward. And so with that said, that's going to be the five steps to selling SaaS, whether you're working at a startup or a large company. If you enjoyed this video, make sure to give it a like, subscribe, and turn on notifications. And if you want a free training on how to start, accelerate your sales career, and sell anything to anyone, I got a free training. Link is in the description. So with that said, my name is Patrick Dang, and I'll see you guys in the next one.\""
            ],
            "application/vnd.google.colaboratory.intrinsic+json": {
              "type": "string"
            }
          },
          "metadata": {},
          "execution_count": 9
        }
      ]
    },
    {
      "cell_type": "code",
      "source": [
        "# Store transcripts to GDrive\n",
        "\n",
        "from google.colab import drive\n",
        "\n",
        "drive_mount_path = Path(\"/\") / \"content\" / \"drive\"\n",
        "drive.mount(str(drive_mount_path))\n",
        "drive_mount_path /= \"My Drive\"\n",
        "drive_path = \"Colab Notebooks/test_transcription\"\n",
        "\n",
        "drive_whisper_path = drive_mount_path / Path(drive_path.lstrip(\"/\"))\n",
        "drive_whisper_path.mkdir(parents=True, exist_ok=True)"
      ],
      "metadata": {
        "colab": {
          "base_uri": "https://localhost:8080/"
        },
        "id": "GyiLQFO_StXH",
        "outputId": "1e7a3c71-3d31-4d74-9ad9-61188e49624d"
      },
      "execution_count": 10,
      "outputs": [
        {
          "output_type": "stream",
          "name": "stdout",
          "text": [
            "Drive already mounted at /content/drive; to attempt to forcibly remount, call drive.mount(\"/content/drive\", force_remount=True).\n"
          ]
        }
      ]
    },
    {
      "cell_type": "code",
      "source": [
        "with open(str(drive_whisper_path) + \"/video_text.txt\", \"w\") as f:\n",
        "  f.write(result[\"text\"])"
      ],
      "metadata": {
        "id": "Y2PviJDCUo5e"
      },
      "execution_count": 11,
      "outputs": []
    },
    {
      "cell_type": "code",
      "source": [
        "import pickle\n",
        "\n",
        "with open(str(drive_whisper_path) + \"/video_ts.pkl\", \"wb\") as f:\n",
        "    pickle.dump(result[\"chunks\"], f)"
      ],
      "metadata": {
        "id": "kywx7oUNVXdq"
      },
      "execution_count": 12,
      "outputs": []
    }
  ]
}